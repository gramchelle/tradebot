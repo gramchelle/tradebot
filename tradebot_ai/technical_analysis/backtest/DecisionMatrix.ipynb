{
 "cells": [
  {
   "cell_type": "code",
   "execution_count": 802,
   "id": "daf6b6ae",
   "metadata": {},
   "outputs": [],
   "source": [
    "# TODO: karar matrisi kıyaslama ekle\n",
    "# TODO: her indiktaör için ayrı request yapısı ekle\n",
    "# TODO: performans metrikleri ekle\n",
    "# TODO: her strateji için ayrı sınıf yapısı ekle\n",
    "# TODO: daha modüler hale getir"
   ]
  },
  {
   "cell_type": "code",
   "execution_count": 803,
   "id": "32931ef5",
   "metadata": {},
   "outputs": [],
   "source": [
    "import pandas as pd\n",
    "symbol = \"GOOGL\"\n",
    "date = \"2024-07-10\""
   ]
  },
  {
   "cell_type": "code",
   "execution_count": 804,
   "id": "03d2dbde",
   "metadata": {},
   "outputs": [],
   "source": [
    "internal_google = pd.read_csv(f'C:\\\\Users\\\\Özlem Nur\\\\Desktop\\\\tradebot_backend\\\\tradebot_ai\\\\reports\\\\internal\\\\{symbol}_internal_report.csv')\n",
    "external_google = pd.read_csv(f'C:\\\\Users\\\\Özlem Nur\\\\Desktop\\\\tradebot_backend\\\\tradebot_ai\\\\reports\\\\external\\\\{symbol}_external_report.csv')"
   ]
  },
  {
   "cell_type": "code",
   "execution_count": 805,
   "id": "550ef1b2",
   "metadata": {},
   "outputs": [
    {
     "data": {
      "text/html": [
       "<div>\n",
       "<style scoped>\n",
       "    .dataframe tbody tr th:only-of-type {\n",
       "        vertical-align: middle;\n",
       "    }\n",
       "\n",
       "    .dataframe tbody tr th {\n",
       "        vertical-align: top;\n",
       "    }\n",
       "\n",
       "    .dataframe thead th {\n",
       "        text-align: right;\n",
       "    }\n",
       "</style>\n",
       "<table border=\"1\" class=\"dataframe\">\n",
       "  <thead>\n",
       "    <tr style=\"text-align: right;\">\n",
       "      <th></th>\n",
       "      <th>id</th>\n",
       "      <th>symbol</th>\n",
       "      <th>indicator</th>\n",
       "      <th>signal</th>\n",
       "      <th>date</th>\n",
       "    </tr>\n",
       "  </thead>\n",
       "  <tbody>\n",
       "    <tr>\n",
       "      <th>0</th>\n",
       "      <td>0</td>\n",
       "      <td>GOOGL</td>\n",
       "      <td>rsi</td>\n",
       "      <td>Hold</td>\n",
       "      <td>2015-01-04</td>\n",
       "    </tr>\n",
       "    <tr>\n",
       "      <th>1</th>\n",
       "      <td>1</td>\n",
       "      <td>GOOGL</td>\n",
       "      <td>rsi</td>\n",
       "      <td>Hold</td>\n",
       "      <td>2015-01-11</td>\n",
       "    </tr>\n",
       "    <tr>\n",
       "      <th>2</th>\n",
       "      <td>2</td>\n",
       "      <td>GOOGL</td>\n",
       "      <td>rsi</td>\n",
       "      <td>Hold</td>\n",
       "      <td>2015-01-18</td>\n",
       "    </tr>\n",
       "    <tr>\n",
       "      <th>3</th>\n",
       "      <td>3</td>\n",
       "      <td>GOOGL</td>\n",
       "      <td>rsi</td>\n",
       "      <td>Hold</td>\n",
       "      <td>2015-01-25</td>\n",
       "    </tr>\n",
       "    <tr>\n",
       "      <th>4</th>\n",
       "      <td>4</td>\n",
       "      <td>GOOGL</td>\n",
       "      <td>rsi</td>\n",
       "      <td>Hold</td>\n",
       "      <td>2015-02-01</td>\n",
       "    </tr>\n",
       "  </tbody>\n",
       "</table>\n",
       "</div>"
      ],
      "text/plain": [
       "   id symbol indicator signal        date\n",
       "0   0  GOOGL       rsi   Hold  2015-01-04\n",
       "1   1  GOOGL       rsi   Hold  2015-01-11\n",
       "2   2  GOOGL       rsi   Hold  2015-01-18\n",
       "3   3  GOOGL       rsi   Hold  2015-01-25\n",
       "4   4  GOOGL       rsi   Hold  2015-02-01"
      ]
     },
     "execution_count": 805,
     "metadata": {},
     "output_type": "execute_result"
    }
   ],
   "source": [
    "internal_google.head()"
   ]
  },
  {
   "cell_type": "code",
   "execution_count": 806,
   "id": "247fad44",
   "metadata": {},
   "outputs": [
    {
     "data": {
      "text/html": [
       "<div>\n",
       "<style scoped>\n",
       "    .dataframe tbody tr th:only-of-type {\n",
       "        vertical-align: middle;\n",
       "    }\n",
       "\n",
       "    .dataframe tbody tr th {\n",
       "        vertical-align: top;\n",
       "    }\n",
       "\n",
       "    .dataframe thead th {\n",
       "        text-align: right;\n",
       "    }\n",
       "</style>\n",
       "<table border=\"1\" class=\"dataframe\">\n",
       "  <thead>\n",
       "    <tr style=\"text-align: right;\">\n",
       "      <th></th>\n",
       "      <th>id</th>\n",
       "      <th>symbol</th>\n",
       "      <th>indicator</th>\n",
       "      <th>signal</th>\n",
       "      <th>date</th>\n",
       "    </tr>\n",
       "  </thead>\n",
       "  <tbody>\n",
       "    <tr>\n",
       "      <th>0</th>\n",
       "      <td>1</td>\n",
       "      <td>GOOGL</td>\n",
       "      <td>rsi</td>\n",
       "      <td>Hold</td>\n",
       "      <td>2015-01-04</td>\n",
       "    </tr>\n",
       "    <tr>\n",
       "      <th>1</th>\n",
       "      <td>2</td>\n",
       "      <td>GOOGL</td>\n",
       "      <td>macd</td>\n",
       "      <td>Buy</td>\n",
       "      <td>2015-01-04</td>\n",
       "    </tr>\n",
       "    <tr>\n",
       "      <th>2</th>\n",
       "      <td>3</td>\n",
       "      <td>GOOGL</td>\n",
       "      <td>bollinger</td>\n",
       "      <td>Hold</td>\n",
       "      <td>2015-01-04</td>\n",
       "    </tr>\n",
       "    <tr>\n",
       "      <th>3</th>\n",
       "      <td>4</td>\n",
       "      <td>GOOGL</td>\n",
       "      <td>ma-cross</td>\n",
       "      <td>Sell</td>\n",
       "      <td>2015-01-04</td>\n",
       "    </tr>\n",
       "    <tr>\n",
       "      <th>4</th>\n",
       "      <td>5</td>\n",
       "      <td>GOOGL</td>\n",
       "      <td>dmi</td>\n",
       "      <td>Sell</td>\n",
       "      <td>2015-01-04</td>\n",
       "    </tr>\n",
       "  </tbody>\n",
       "</table>\n",
       "</div>"
      ],
      "text/plain": [
       "   id symbol  indicator signal        date\n",
       "0   1  GOOGL        rsi   Hold  2015-01-04\n",
       "1   2  GOOGL       macd    Buy  2015-01-04\n",
       "2   3  GOOGL  bollinger   Hold  2015-01-04\n",
       "3   4  GOOGL   ma-cross   Sell  2015-01-04\n",
       "4   5  GOOGL        dmi   Sell  2015-01-04"
      ]
     },
     "execution_count": 806,
     "metadata": {},
     "output_type": "execute_result"
    }
   ],
   "source": [
    "external_google.head()"
   ]
  },
  {
   "cell_type": "code",
   "execution_count": 807,
   "id": "4bc04331",
   "metadata": {},
   "outputs": [],
   "source": [
    "INDICATORS = [\"rsi\", \"macd\", \"bollinger\", \"ma-cross\", \"dmi\", \"mfi\", \"trendline\"]"
   ]
  },
  {
   "cell_type": "code",
   "execution_count": 808,
   "id": "e428cae2",
   "metadata": {},
   "outputs": [
    {
     "name": "stdout",
     "output_type": "stream",
     "text": [
      "<class 'pandas.core.frame.DataFrame'>\n",
      "RangeIndex: 3899 entries, 0 to 3898\n",
      "Data columns (total 5 columns):\n",
      " #   Column     Non-Null Count  Dtype \n",
      "---  ------     --------------  ----- \n",
      " 0   id         3899 non-null   int64 \n",
      " 1   symbol     3899 non-null   object\n",
      " 2   indicator  3899 non-null   object\n",
      " 3   signal     3899 non-null   object\n",
      " 4   date       3899 non-null   object\n",
      "dtypes: int64(1), object(4)\n",
      "memory usage: 152.4+ KB\n"
     ]
    }
   ],
   "source": [
    "internal_google.info()"
   ]
  },
  {
   "cell_type": "code",
   "execution_count": 809,
   "id": "fb4c9a07",
   "metadata": {},
   "outputs": [
    {
     "data": {
      "text/plain": [
       "indicator\n",
       "bollinger    [Hold, Sell, Buy]\n",
       "dmi                [Buy, Sell]\n",
       "ma-cross                 [Buy]\n",
       "macd               [Buy, Sell]\n",
       "mfi          [Hold, Sell, Buy]\n",
       "rsi          [Hold, Sell, Buy]\n",
       "trendline    [Hold, Sell, Buy]\n",
       "Name: signal, dtype: object"
      ]
     },
     "execution_count": 809,
     "metadata": {},
     "output_type": "execute_result"
    }
   ],
   "source": [
    "internal_google.groupby('indicator')[\"signal\"].unique()"
   ]
  },
  {
   "cell_type": "code",
   "execution_count": 810,
   "id": "a5911ad8",
   "metadata": {},
   "outputs": [
    {
     "data": {
      "text/html": [
       "<div>\n",
       "<style scoped>\n",
       "    .dataframe tbody tr th:only-of-type {\n",
       "        vertical-align: middle;\n",
       "    }\n",
       "\n",
       "    .dataframe tbody tr th {\n",
       "        vertical-align: top;\n",
       "    }\n",
       "\n",
       "    .dataframe thead th {\n",
       "        text-align: right;\n",
       "    }\n",
       "</style>\n",
       "<table border=\"1\" class=\"dataframe\">\n",
       "  <thead>\n",
       "    <tr style=\"text-align: right;\">\n",
       "      <th></th>\n",
       "      <th>id_internal</th>\n",
       "      <th>symbol_internal</th>\n",
       "      <th>indicator</th>\n",
       "      <th>signal_internal</th>\n",
       "      <th>date</th>\n",
       "      <th>id_external</th>\n",
       "      <th>symbol_external</th>\n",
       "      <th>signal_external</th>\n",
       "    </tr>\n",
       "  </thead>\n",
       "  <tbody>\n",
       "    <tr>\n",
       "      <th>0</th>\n",
       "      <td>0</td>\n",
       "      <td>GOOGL</td>\n",
       "      <td>rsi</td>\n",
       "      <td>Hold</td>\n",
       "      <td>2015-01-04</td>\n",
       "      <td>1</td>\n",
       "      <td>GOOGL</td>\n",
       "      <td>Hold</td>\n",
       "    </tr>\n",
       "    <tr>\n",
       "      <th>1</th>\n",
       "      <td>1</td>\n",
       "      <td>GOOGL</td>\n",
       "      <td>rsi</td>\n",
       "      <td>Hold</td>\n",
       "      <td>2015-01-11</td>\n",
       "      <td>8</td>\n",
       "      <td>GOOGL</td>\n",
       "      <td>Hold</td>\n",
       "    </tr>\n",
       "    <tr>\n",
       "      <th>2</th>\n",
       "      <td>2</td>\n",
       "      <td>GOOGL</td>\n",
       "      <td>rsi</td>\n",
       "      <td>Hold</td>\n",
       "      <td>2015-01-18</td>\n",
       "      <td>15</td>\n",
       "      <td>GOOGL</td>\n",
       "      <td>Hold</td>\n",
       "    </tr>\n",
       "    <tr>\n",
       "      <th>3</th>\n",
       "      <td>3</td>\n",
       "      <td>GOOGL</td>\n",
       "      <td>rsi</td>\n",
       "      <td>Hold</td>\n",
       "      <td>2015-01-25</td>\n",
       "      <td>22</td>\n",
       "      <td>GOOGL</td>\n",
       "      <td>Hold</td>\n",
       "    </tr>\n",
       "    <tr>\n",
       "      <th>4</th>\n",
       "      <td>4</td>\n",
       "      <td>GOOGL</td>\n",
       "      <td>rsi</td>\n",
       "      <td>Hold</td>\n",
       "      <td>2015-02-01</td>\n",
       "      <td>29</td>\n",
       "      <td>GOOGL</td>\n",
       "      <td>Hold</td>\n",
       "    </tr>\n",
       "  </tbody>\n",
       "</table>\n",
       "</div>"
      ],
      "text/plain": [
       "   id_internal symbol_internal indicator signal_internal        date  \\\n",
       "0            0           GOOGL       rsi            Hold  2015-01-04   \n",
       "1            1           GOOGL       rsi            Hold  2015-01-11   \n",
       "2            2           GOOGL       rsi            Hold  2015-01-18   \n",
       "3            3           GOOGL       rsi            Hold  2015-01-25   \n",
       "4            4           GOOGL       rsi            Hold  2015-02-01   \n",
       "\n",
       "   id_external symbol_external signal_external  \n",
       "0            1           GOOGL            Hold  \n",
       "1            8           GOOGL            Hold  \n",
       "2           15           GOOGL            Hold  \n",
       "3           22           GOOGL            Hold  \n",
       "4           29           GOOGL            Hold  "
      ]
     },
     "execution_count": 810,
     "metadata": {},
     "output_type": "execute_result"
    }
   ],
   "source": [
    "internal_google.join(external_google.set_index(['date', 'indicator']), on=['date', 'indicator'], lsuffix='_internal', rsuffix='_external')\n",
    "merged = pd.merge(internal_google, external_google, on=['date', 'indicator'], suffixes=('_internal', '_external'))\n",
    "merged.head()"
   ]
  },
  {
   "cell_type": "code",
   "execution_count": 811,
   "id": "7afbfd45",
   "metadata": {},
   "outputs": [
    {
     "name": "stderr",
     "output_type": "stream",
     "text": [
      "C:\\Users\\Özlem Nur\\AppData\\Local\\Temp\\ipykernel_19488\\2102003345.py:1: DeprecationWarning: DataFrameGroupBy.apply operated on the grouping columns. This behavior is deprecated, and in a future version of pandas the grouping columns will be excluded from the operation. Either pass `include_groups=False` to exclude the groupings or explicitly select the grouping columns after groupby to silence this warning.\n",
      "  merged_results = merged.groupby('indicator').apply(lambda x: (x['signal_internal'] == x['signal_external']).mean() * 100)\n"
     ]
    },
    {
     "data": {
      "text/html": [
       "<div>\n",
       "<style scoped>\n",
       "    .dataframe tbody tr th:only-of-type {\n",
       "        vertical-align: middle;\n",
       "    }\n",
       "\n",
       "    .dataframe tbody tr th {\n",
       "        vertical-align: top;\n",
       "    }\n",
       "\n",
       "    .dataframe thead th {\n",
       "        text-align: right;\n",
       "    }\n",
       "</style>\n",
       "<table border=\"1\" class=\"dataframe\">\n",
       "  <thead>\n",
       "    <tr style=\"text-align: right;\">\n",
       "      <th></th>\n",
       "      <th>indicator</th>\n",
       "      <th>accuracy_percentage</th>\n",
       "    </tr>\n",
       "  </thead>\n",
       "  <tbody>\n",
       "    <tr>\n",
       "      <th>0</th>\n",
       "      <td>bollinger</td>\n",
       "      <td>14.285714</td>\n",
       "    </tr>\n",
       "    <tr>\n",
       "      <th>1</th>\n",
       "      <td>dmi</td>\n",
       "      <td>0.230828</td>\n",
       "    </tr>\n",
       "    <tr>\n",
       "      <th>2</th>\n",
       "      <td>ma-cross</td>\n",
       "      <td>10.848936</td>\n",
       "    </tr>\n",
       "    <tr>\n",
       "      <th>3</th>\n",
       "      <td>macd</td>\n",
       "      <td>14.003591</td>\n",
       "    </tr>\n",
       "    <tr>\n",
       "      <th>4</th>\n",
       "      <td>mfi</td>\n",
       "      <td>14.260067</td>\n",
       "    </tr>\n",
       "    <tr>\n",
       "      <th>5</th>\n",
       "      <td>rsi</td>\n",
       "      <td>13.952295</td>\n",
       "    </tr>\n",
       "    <tr>\n",
       "      <th>6</th>\n",
       "      <td>trendline</td>\n",
       "      <td>0.615542</td>\n",
       "    </tr>\n",
       "  </tbody>\n",
       "</table>\n",
       "</div>"
      ],
      "text/plain": [
       "   indicator  accuracy_percentage\n",
       "0  bollinger            14.285714\n",
       "1        dmi             0.230828\n",
       "2   ma-cross            10.848936\n",
       "3       macd            14.003591\n",
       "4        mfi            14.260067\n",
       "5        rsi            13.952295\n",
       "6  trendline             0.615542"
      ]
     },
     "execution_count": 811,
     "metadata": {},
     "output_type": "execute_result"
    }
   ],
   "source": [
    "merged_results = merged.groupby('indicator').apply(lambda x: (x['signal_internal'] == x['signal_external']).mean() * 100)\n",
    "merged_results = merged_results.reset_index()\n",
    "merged_results.columns = ['indicator', 'accuracy_percentage']\n",
    "# for testing purpose\n",
    "#merged_results = merged_results.drop(index=1, axis=0)\n",
    "# -------------------\n",
    "merged_results[\"accuracy_percentage\"] = merged_results[\"accuracy_percentage\"] / len(INDICATORS)\n",
    "merged_results"
   ]
  },
  {
   "cell_type": "code",
   "execution_count": 812,
   "id": "d2bfb80b",
   "metadata": {},
   "outputs": [
    {
     "data": {
      "text/plain": [
       "{'ma-cross': 1,\n",
       " 'mfi': 0,\n",
       " 'trendline': 0,\n",
       " 'rsi': -1,\n",
       " 'macd': 1,\n",
       " 'dmi': -1,\n",
       " 'bollinger': 0}"
      ]
     },
     "execution_count": 812,
     "metadata": {},
     "output_type": "execute_result"
    }
   ],
   "source": [
    "import requests\n",
    "\n",
    "url = f\"http://localhost:8082/ta/getSignals/{symbol}?date={date}T00:00:00\"\n",
    "\n",
    "response = requests.get(url)\n",
    "data = response.json()\n",
    "data"
   ]
  },
  {
   "cell_type": "code",
   "execution_count": 813,
   "id": "62192b1c",
   "metadata": {},
   "outputs": [
    {
     "data": {
      "text/html": [
       "<div>\n",
       "<style scoped>\n",
       "    .dataframe tbody tr th:only-of-type {\n",
       "        vertical-align: middle;\n",
       "    }\n",
       "\n",
       "    .dataframe tbody tr th {\n",
       "        vertical-align: top;\n",
       "    }\n",
       "\n",
       "    .dataframe thead th {\n",
       "        text-align: right;\n",
       "    }\n",
       "</style>\n",
       "<table border=\"1\" class=\"dataframe\">\n",
       "  <thead>\n",
       "    <tr style=\"text-align: right;\">\n",
       "      <th></th>\n",
       "      <th>indicator</th>\n",
       "      <th>score</th>\n",
       "    </tr>\n",
       "  </thead>\n",
       "  <tbody>\n",
       "    <tr>\n",
       "      <th>0</th>\n",
       "      <td>ma-cross</td>\n",
       "      <td>1</td>\n",
       "    </tr>\n",
       "    <tr>\n",
       "      <th>1</th>\n",
       "      <td>mfi</td>\n",
       "      <td>0</td>\n",
       "    </tr>\n",
       "    <tr>\n",
       "      <th>2</th>\n",
       "      <td>trendline</td>\n",
       "      <td>0</td>\n",
       "    </tr>\n",
       "    <tr>\n",
       "      <th>3</th>\n",
       "      <td>rsi</td>\n",
       "      <td>-1</td>\n",
       "    </tr>\n",
       "    <tr>\n",
       "      <th>4</th>\n",
       "      <td>macd</td>\n",
       "      <td>1</td>\n",
       "    </tr>\n",
       "    <tr>\n",
       "      <th>5</th>\n",
       "      <td>dmi</td>\n",
       "      <td>-1</td>\n",
       "    </tr>\n",
       "    <tr>\n",
       "      <th>6</th>\n",
       "      <td>bollinger</td>\n",
       "      <td>0</td>\n",
       "    </tr>\n",
       "  </tbody>\n",
       "</table>\n",
       "</div>"
      ],
      "text/plain": [
       "   indicator  score\n",
       "0   ma-cross      1\n",
       "1        mfi      0\n",
       "2  trendline      0\n",
       "3        rsi     -1\n",
       "4       macd      1\n",
       "5        dmi     -1\n",
       "6  bollinger      0"
      ]
     },
     "execution_count": 813,
     "metadata": {},
     "output_type": "execute_result"
    }
   ],
   "source": [
    "df = pd.DataFrame.from_dict(data, orient='index').reset_index()\n",
    "df.columns = ['indicator', 'score']\n",
    "df[\"score\"] = df[\"score\"]\n",
    "df"
   ]
  },
  {
   "cell_type": "code",
   "execution_count": 814,
   "id": "ec7ab6c7",
   "metadata": {},
   "outputs": [
    {
     "data": {
      "text/html": [
       "<div>\n",
       "<style scoped>\n",
       "    .dataframe tbody tr th:only-of-type {\n",
       "        vertical-align: middle;\n",
       "    }\n",
       "\n",
       "    .dataframe tbody tr th {\n",
       "        vertical-align: top;\n",
       "    }\n",
       "\n",
       "    .dataframe thead th {\n",
       "        text-align: right;\n",
       "    }\n",
       "</style>\n",
       "<table border=\"1\" class=\"dataframe\">\n",
       "  <thead>\n",
       "    <tr style=\"text-align: right;\">\n",
       "      <th></th>\n",
       "      <th>indicator</th>\n",
       "      <th>score</th>\n",
       "      <th>accuracy_percentage</th>\n",
       "    </tr>\n",
       "  </thead>\n",
       "  <tbody>\n",
       "    <tr>\n",
       "      <th>0</th>\n",
       "      <td>ma-cross</td>\n",
       "      <td>1</td>\n",
       "      <td>10.848936</td>\n",
       "    </tr>\n",
       "    <tr>\n",
       "      <th>1</th>\n",
       "      <td>mfi</td>\n",
       "      <td>0</td>\n",
       "      <td>14.260067</td>\n",
       "    </tr>\n",
       "    <tr>\n",
       "      <th>2</th>\n",
       "      <td>trendline</td>\n",
       "      <td>0</td>\n",
       "      <td>0.615542</td>\n",
       "    </tr>\n",
       "    <tr>\n",
       "      <th>3</th>\n",
       "      <td>rsi</td>\n",
       "      <td>-1</td>\n",
       "      <td>13.952295</td>\n",
       "    </tr>\n",
       "    <tr>\n",
       "      <th>4</th>\n",
       "      <td>macd</td>\n",
       "      <td>1</td>\n",
       "      <td>14.003591</td>\n",
       "    </tr>\n",
       "    <tr>\n",
       "      <th>5</th>\n",
       "      <td>dmi</td>\n",
       "      <td>-1</td>\n",
       "      <td>0.230828</td>\n",
       "    </tr>\n",
       "    <tr>\n",
       "      <th>6</th>\n",
       "      <td>bollinger</td>\n",
       "      <td>0</td>\n",
       "      <td>14.285714</td>\n",
       "    </tr>\n",
       "  </tbody>\n",
       "</table>\n",
       "</div>"
      ],
      "text/plain": [
       "   indicator  score  accuracy_percentage\n",
       "0   ma-cross      1            10.848936\n",
       "1        mfi      0            14.260067\n",
       "2  trendline      0             0.615542\n",
       "3        rsi     -1            13.952295\n",
       "4       macd      1            14.003591\n",
       "5        dmi     -1             0.230828\n",
       "6  bollinger      0            14.285714"
      ]
     },
     "execution_count": 814,
     "metadata": {},
     "output_type": "execute_result"
    }
   ],
   "source": [
    "merged_indicators = df.join(merged_results.set_index('indicator'), on='indicator')\n",
    "merged_indicators"
   ]
  },
  {
   "cell_type": "code",
   "execution_count": 815,
   "id": "72cd8c87",
   "metadata": {},
   "outputs": [],
   "source": [
    "# for testing purpose\n",
    "#merged_indicators = merged_indicators.drop(index=5, axis=0)\n",
    "#if (df[\"indicator\"] == \"trendline\").any():\n",
    "#    df.loc[df[\"indicator\"] == \"trendline\", \"score\"] *= -1\n",
    "# -------------------"
   ]
  },
  {
   "cell_type": "code",
   "execution_count": 816,
   "id": "78052a67",
   "metadata": {},
   "outputs": [
    {
     "data": {
      "text/html": [
       "<div>\n",
       "<style scoped>\n",
       "    .dataframe tbody tr th:only-of-type {\n",
       "        vertical-align: middle;\n",
       "    }\n",
       "\n",
       "    .dataframe tbody tr th {\n",
       "        vertical-align: top;\n",
       "    }\n",
       "\n",
       "    .dataframe thead th {\n",
       "        text-align: right;\n",
       "    }\n",
       "</style>\n",
       "<table border=\"1\" class=\"dataframe\">\n",
       "  <thead>\n",
       "    <tr style=\"text-align: right;\">\n",
       "      <th></th>\n",
       "      <th>indicator</th>\n",
       "      <th>score</th>\n",
       "      <th>accuracy_percentage</th>\n",
       "    </tr>\n",
       "  </thead>\n",
       "  <tbody>\n",
       "    <tr>\n",
       "      <th>0</th>\n",
       "      <td>ma-cross</td>\n",
       "      <td>1</td>\n",
       "      <td>10.848936</td>\n",
       "    </tr>\n",
       "    <tr>\n",
       "      <th>1</th>\n",
       "      <td>mfi</td>\n",
       "      <td>0</td>\n",
       "      <td>14.260067</td>\n",
       "    </tr>\n",
       "    <tr>\n",
       "      <th>2</th>\n",
       "      <td>trendline</td>\n",
       "      <td>0</td>\n",
       "      <td>0.615542</td>\n",
       "    </tr>\n",
       "    <tr>\n",
       "      <th>3</th>\n",
       "      <td>rsi</td>\n",
       "      <td>-1</td>\n",
       "      <td>13.952295</td>\n",
       "    </tr>\n",
       "    <tr>\n",
       "      <th>4</th>\n",
       "      <td>macd</td>\n",
       "      <td>1</td>\n",
       "      <td>14.003591</td>\n",
       "    </tr>\n",
       "    <tr>\n",
       "      <th>5</th>\n",
       "      <td>dmi</td>\n",
       "      <td>-1</td>\n",
       "      <td>0.230828</td>\n",
       "    </tr>\n",
       "    <tr>\n",
       "      <th>6</th>\n",
       "      <td>bollinger</td>\n",
       "      <td>0</td>\n",
       "      <td>14.285714</td>\n",
       "    </tr>\n",
       "  </tbody>\n",
       "</table>\n",
       "</div>"
      ],
      "text/plain": [
       "   indicator  score  accuracy_percentage\n",
       "0   ma-cross      1            10.848936\n",
       "1        mfi      0            14.260067\n",
       "2  trendline      0             0.615542\n",
       "3        rsi     -1            13.952295\n",
       "4       macd      1            14.003591\n",
       "5        dmi     -1             0.230828\n",
       "6  bollinger      0            14.285714"
      ]
     },
     "execution_count": 816,
     "metadata": {},
     "output_type": "execute_result"
    }
   ],
   "source": [
    "merged_indicators"
   ]
  },
  {
   "cell_type": "code",
   "execution_count": 817,
   "id": "30f0d44a",
   "metadata": {},
   "outputs": [],
   "source": [
    "if (merged_indicators[\"indicator\"] == \"macd\").any():\n",
    "    merged_indicators.loc[merged_indicators[\"indicator\"] == \"macd\", \"score\"] *= -1\n",
    "if (merged_indicators[\"indicator\"] == \"ma-cross\").any():\n",
    "    merged_indicators.loc[merged_indicators[\"indicator\"] == \"ma-cross\", \"score\"] *= -1"
   ]
  },
  {
   "cell_type": "code",
   "execution_count": 818,
   "id": "3b37111d",
   "metadata": {},
   "outputs": [
    {
     "name": "stdout",
     "output_type": "stream",
     "text": [
      "<class 'pandas.core.frame.DataFrame'>\n",
      "RangeIndex: 7 entries, 0 to 6\n",
      "Data columns (total 3 columns):\n",
      " #   Column               Non-Null Count  Dtype  \n",
      "---  ------               --------------  -----  \n",
      " 0   indicator            7 non-null      object \n",
      " 1   score                7 non-null      int64  \n",
      " 2   accuracy_percentage  7 non-null      float64\n",
      "dtypes: float64(1), int64(1), object(1)\n",
      "memory usage: 300.0+ bytes\n"
     ]
    }
   ],
   "source": [
    "merged_indicators.info()"
   ]
  },
  {
   "cell_type": "code",
   "execution_count": 819,
   "id": "6380dd0b",
   "metadata": {},
   "outputs": [
    {
     "data": {
      "text/html": [
       "<div>\n",
       "<style scoped>\n",
       "    .dataframe tbody tr th:only-of-type {\n",
       "        vertical-align: middle;\n",
       "    }\n",
       "\n",
       "    .dataframe tbody tr th {\n",
       "        vertical-align: top;\n",
       "    }\n",
       "\n",
       "    .dataframe thead th {\n",
       "        text-align: right;\n",
       "    }\n",
       "</style>\n",
       "<table border=\"1\" class=\"dataframe\">\n",
       "  <thead>\n",
       "    <tr style=\"text-align: right;\">\n",
       "      <th></th>\n",
       "      <th>Katman</th>\n",
       "      <th>Sinyal/Skor</th>\n",
       "      <th>Güven Ağırlığı</th>\n",
       "    </tr>\n",
       "  </thead>\n",
       "  <tbody>\n",
       "    <tr>\n",
       "      <th>0</th>\n",
       "      <td>ma-cross</td>\n",
       "      <td>SELL</td>\n",
       "      <td>10.85</td>\n",
       "    </tr>\n",
       "    <tr>\n",
       "      <th>1</th>\n",
       "      <td>mfi</td>\n",
       "      <td>HOLD</td>\n",
       "      <td>14.26</td>\n",
       "    </tr>\n",
       "    <tr>\n",
       "      <th>2</th>\n",
       "      <td>trendline</td>\n",
       "      <td>HOLD</td>\n",
       "      <td>0.62</td>\n",
       "    </tr>\n",
       "    <tr>\n",
       "      <th>3</th>\n",
       "      <td>rsi</td>\n",
       "      <td>SELL</td>\n",
       "      <td>13.95</td>\n",
       "    </tr>\n",
       "    <tr>\n",
       "      <th>4</th>\n",
       "      <td>macd</td>\n",
       "      <td>SELL</td>\n",
       "      <td>14.00</td>\n",
       "    </tr>\n",
       "    <tr>\n",
       "      <th>5</th>\n",
       "      <td>dmi</td>\n",
       "      <td>SELL</td>\n",
       "      <td>0.23</td>\n",
       "    </tr>\n",
       "    <tr>\n",
       "      <th>6</th>\n",
       "      <td>bollinger</td>\n",
       "      <td>HOLD</td>\n",
       "      <td>14.29</td>\n",
       "    </tr>\n",
       "  </tbody>\n",
       "</table>\n",
       "</div>"
      ],
      "text/plain": [
       "      Katman Sinyal/Skor  Güven Ağırlığı\n",
       "0   ma-cross        SELL           10.85\n",
       "1        mfi        HOLD           14.26\n",
       "2  trendline        HOLD            0.62\n",
       "3        rsi        SELL           13.95\n",
       "4       macd        SELL           14.00\n",
       "5        dmi        SELL            0.23\n",
       "6  bollinger        HOLD           14.29"
      ]
     },
     "metadata": {},
     "output_type": "display_data"
    }
   ],
   "source": [
    "karar_matrisi = merged_indicators.copy()\n",
    "karar_matrisi[[\"Katman\", \"Sinyal/Skor\", \"Güven Ağırlığı\"]] = karar_matrisi[[\"indicator\", \"score\", \"accuracy_percentage\"]]\n",
    "karar_matrisi = karar_matrisi.drop(columns=[\"indicator\", \"score\", \"accuracy_percentage\"])\n",
    "karar_matrisi[\"Sinyal/Skor\"] = karar_matrisi[\"Sinyal/Skor\"].astype(\"object\")\n",
    "karar_matrisi[\"Sinyal/Skor\"] = karar_matrisi[\"Sinyal/Skor\"].map(lambda x: \"BUY\" if x == 1 else \"SELL\" if x == -1 else \"HOLD\")\n",
    "karar_matrisi[\"Güven Ağırlığı\"] = round(karar_matrisi[\"Güven Ağırlığı\"], 2)\n",
    "display(karar_matrisi)"
   ]
  },
  {
   "cell_type": "code",
   "execution_count": 820,
   "id": "39439b50",
   "metadata": {},
   "outputs": [
    {
     "data": {
      "text/plain": [
       "array([[0.75547445],\n",
       "       [0.99817518],\n",
       "       [0.02737226],\n",
       "       [0.97627737],\n",
       "       [0.97992701],\n",
       "       [0.        ],\n",
       "       [1.        ]])"
      ]
     },
     "execution_count": 820,
     "metadata": {},
     "output_type": "execute_result"
    }
   ],
   "source": [
    "from sklearn.preprocessing import MinMaxScaler\n",
    "\n",
    "minmax_scaler = MinMaxScaler()\n",
    "minmax_scaled_features = minmax_scaler.fit_transform(merged_indicators[\"accuracy_percentage\"].values.reshape(-1, 1))\n",
    "minmax_scaled_features"
   ]
  },
  {
   "cell_type": "code",
   "execution_count": 821,
   "id": "9b563337",
   "metadata": {},
   "outputs": [
    {
     "data": {
      "text/plain": [
       "array([[ 0.18444558],\n",
       "       [ 0.753051  ],\n",
       "       [-1.52137067],\n",
       "       [ 0.70174825],\n",
       "       [ 0.71029871],\n",
       "       [-1.5854991 ],\n",
       "       [ 0.75732623]])"
      ]
     },
     "execution_count": 821,
     "metadata": {},
     "output_type": "execute_result"
    }
   ],
   "source": [
    "from sklearn.preprocessing import StandardScaler\n",
    "\n",
    "standard_scaler = StandardScaler(with_mean=True, with_std=True)\n",
    "standard_scaled_features = standard_scaler.fit_transform(merged_indicators[\"accuracy_percentage\"].values.reshape(-1, 1))\n",
    "standard_scaled_features"
   ]
  },
  {
   "cell_type": "code",
   "execution_count": 822,
   "id": "b04c46c5",
   "metadata": {},
   "outputs": [],
   "source": [
    "merged_indicators[\"accuracy_percentage\"] = standard_scaled_features"
   ]
  },
  {
   "cell_type": "code",
   "execution_count": 823,
   "id": "284d9356",
   "metadata": {},
   "outputs": [
    {
     "data": {
      "text/html": [
       "<div>\n",
       "<style scoped>\n",
       "    .dataframe tbody tr th:only-of-type {\n",
       "        vertical-align: middle;\n",
       "    }\n",
       "\n",
       "    .dataframe tbody tr th {\n",
       "        vertical-align: top;\n",
       "    }\n",
       "\n",
       "    .dataframe thead th {\n",
       "        text-align: right;\n",
       "    }\n",
       "</style>\n",
       "<table border=\"1\" class=\"dataframe\">\n",
       "  <thead>\n",
       "    <tr style=\"text-align: right;\">\n",
       "      <th></th>\n",
       "      <th>indicator</th>\n",
       "      <th>final_score</th>\n",
       "    </tr>\n",
       "  </thead>\n",
       "  <tbody>\n",
       "    <tr>\n",
       "      <th>0</th>\n",
       "      <td>ma-cross</td>\n",
       "      <td>-0.001844</td>\n",
       "    </tr>\n",
       "    <tr>\n",
       "      <th>1</th>\n",
       "      <td>mfi</td>\n",
       "      <td>0.000000</td>\n",
       "    </tr>\n",
       "    <tr>\n",
       "      <th>2</th>\n",
       "      <td>trendline</td>\n",
       "      <td>-0.000000</td>\n",
       "    </tr>\n",
       "    <tr>\n",
       "      <th>3</th>\n",
       "      <td>rsi</td>\n",
       "      <td>-0.007017</td>\n",
       "    </tr>\n",
       "    <tr>\n",
       "      <th>4</th>\n",
       "      <td>macd</td>\n",
       "      <td>-0.007103</td>\n",
       "    </tr>\n",
       "    <tr>\n",
       "      <th>5</th>\n",
       "      <td>dmi</td>\n",
       "      <td>0.015855</td>\n",
       "    </tr>\n",
       "    <tr>\n",
       "      <th>6</th>\n",
       "      <td>bollinger</td>\n",
       "      <td>0.000000</td>\n",
       "    </tr>\n",
       "  </tbody>\n",
       "</table>\n",
       "</div>"
      ],
      "text/plain": [
       "   indicator  final_score\n",
       "0   ma-cross    -0.001844\n",
       "1        mfi     0.000000\n",
       "2  trendline    -0.000000\n",
       "3        rsi    -0.007017\n",
       "4       macd    -0.007103\n",
       "5        dmi     0.015855\n",
       "6  bollinger     0.000000"
      ]
     },
     "execution_count": 823,
     "metadata": {},
     "output_type": "execute_result"
    }
   ],
   "source": [
    "merged_indicators['final_score'] = merged_indicators['score'] * (merged_indicators['accuracy_percentage'] / 100)\n",
    "merged_indicators[[\"indicator\", \"final_score\"]]"
   ]
  },
  {
   "cell_type": "code",
   "execution_count": 824,
   "id": "5769b8a2",
   "metadata": {},
   "outputs": [
    {
     "data": {
      "text/plain": [
       "np.float64(-0.00010993445246210501)"
      ]
     },
     "execution_count": 824,
     "metadata": {},
     "output_type": "execute_result"
    }
   ],
   "source": [
    "total_net_score = merged_indicators[\"final_score\"].sum()\n",
    "total_net_score"
   ]
  },
  {
   "cell_type": "code",
   "execution_count": 835,
   "id": "d8690661",
   "metadata": {},
   "outputs": [
    {
     "name": "stdout",
     "output_type": "stream",
     "text": [
      "Symbol GOOGL on 2024-07-10\n",
      "Total net score: -0.00010993445246210501\n",
      "Decision: HOLD\n"
     ]
    }
   ],
   "source": [
    "sell, hold, buy = -1, 0, 1\n",
    "\n",
    "def net_score(total_net_score):\n",
    "    if total_net_score <= -1.0 and total_net_score < -0.3:\n",
    "        decision = \"SELL\"\n",
    "    elif total_net_score >= -0.3 and total_net_score < 0.2:\n",
    "        decision = \"HOLD\"\n",
    "    elif total_net_score >= 0.2 and total_net_score <= 1.0:\n",
    "        decision = \"BUY\"\n",
    "\n",
    "    return decision\n",
    "\n",
    "print(f\"Symbol {symbol} on {date}\")\n",
    "print(f\"Total net score: {total_net_score}\")\n",
    "print(f\"Decision: {net_score(total_net_score)}\")"
   ]
  },
  {
   "cell_type": "code",
   "execution_count": 826,
   "id": "569c5615",
   "metadata": {},
   "outputs": [],
   "source": [
    "import os\n",
    "import IPython\n",
    "\n",
    "os.environ[\"SSL_CERT_FILE\"] = r\"C:\\\\Users\\\\Public\\\\cacert.pem\"\n",
    "os.environ[\"REQUESTS_CA_BUNDLE\"] = r\"C:\\\\Users\\\\Public\\\\cacert.pem\"\n",
    "\n",
    "from TAResults import get_signal\n",
    "yf_result = get_signal(symbol, date)\n",
    "IPython.display.clear_output()"
   ]
  },
  {
   "cell_type": "code",
   "execution_count": 827,
   "id": "3156384c",
   "metadata": {},
   "outputs": [
    {
     "data": {
      "text/html": [
       "<div>\n",
       "<style scoped>\n",
       "    .dataframe tbody tr th:only-of-type {\n",
       "        vertical-align: middle;\n",
       "    }\n",
       "\n",
       "    .dataframe tbody tr th {\n",
       "        vertical-align: top;\n",
       "    }\n",
       "\n",
       "    .dataframe thead th {\n",
       "        text-align: right;\n",
       "    }\n",
       "</style>\n",
       "<table border=\"1\" class=\"dataframe\">\n",
       "  <thead>\n",
       "    <tr style=\"text-align: right;\">\n",
       "      <th></th>\n",
       "      <th>symbol</th>\n",
       "      <th>indicator</th>\n",
       "      <th>signal</th>\n",
       "      <th>date</th>\n",
       "    </tr>\n",
       "  </thead>\n",
       "  <tbody>\n",
       "    <tr>\n",
       "      <th>0</th>\n",
       "      <td>GOOGL</td>\n",
       "      <td>rsi</td>\n",
       "      <td>Sell</td>\n",
       "      <td>2024-07-10</td>\n",
       "    </tr>\n",
       "    <tr>\n",
       "      <th>1</th>\n",
       "      <td>GOOGL</td>\n",
       "      <td>macd</td>\n",
       "      <td>Buy</td>\n",
       "      <td>2024-07-10</td>\n",
       "    </tr>\n",
       "    <tr>\n",
       "      <th>2</th>\n",
       "      <td>GOOGL</td>\n",
       "      <td>bollinger</td>\n",
       "      <td>Hold</td>\n",
       "      <td>2024-07-10</td>\n",
       "    </tr>\n",
       "    <tr>\n",
       "      <th>3</th>\n",
       "      <td>GOOGL</td>\n",
       "      <td>ma-cross</td>\n",
       "      <td>Buy</td>\n",
       "      <td>2024-07-10</td>\n",
       "    </tr>\n",
       "    <tr>\n",
       "      <th>4</th>\n",
       "      <td>GOOGL</td>\n",
       "      <td>dmi</td>\n",
       "      <td>Buy</td>\n",
       "      <td>2024-07-10</td>\n",
       "    </tr>\n",
       "    <tr>\n",
       "      <th>5</th>\n",
       "      <td>GOOGL</td>\n",
       "      <td>mfi</td>\n",
       "      <td>Hold</td>\n",
       "      <td>2024-07-10</td>\n",
       "    </tr>\n",
       "    <tr>\n",
       "      <th>6</th>\n",
       "      <td>GOOGL</td>\n",
       "      <td>trendline</td>\n",
       "      <td>Buy</td>\n",
       "      <td>2024-07-10</td>\n",
       "    </tr>\n",
       "  </tbody>\n",
       "</table>\n",
       "</div>"
      ],
      "text/plain": [
       "  symbol  indicator signal        date\n",
       "0  GOOGL        rsi   Sell  2024-07-10\n",
       "1  GOOGL       macd    Buy  2024-07-10\n",
       "2  GOOGL  bollinger   Hold  2024-07-10\n",
       "3  GOOGL   ma-cross    Buy  2024-07-10\n",
       "4  GOOGL        dmi    Buy  2024-07-10\n",
       "5  GOOGL        mfi   Hold  2024-07-10\n",
       "6  GOOGL  trendline    Buy  2024-07-10"
      ]
     },
     "execution_count": 827,
     "metadata": {},
     "output_type": "execute_result"
    }
   ],
   "source": [
    "yf_result"
   ]
  },
  {
   "cell_type": "code",
   "execution_count": 828,
   "id": "c4434bab",
   "metadata": {},
   "outputs": [
    {
     "name": "stdout",
     "output_type": "stream",
     "text": [
      "<class 'pandas.core.frame.DataFrame'>\n",
      "RangeIndex: 7 entries, 0 to 6\n",
      "Data columns (total 4 columns):\n",
      " #   Column     Non-Null Count  Dtype \n",
      "---  ------     --------------  ----- \n",
      " 0   symbol     7 non-null      object\n",
      " 1   indicator  7 non-null      object\n",
      " 2   signal     7 non-null      object\n",
      " 3   date       7 non-null      object\n",
      "dtypes: object(4)\n",
      "memory usage: 356.0+ bytes\n"
     ]
    }
   ],
   "source": [
    "yf_result.info()"
   ]
  },
  {
   "cell_type": "code",
   "execution_count": 829,
   "id": "90b4fb52",
   "metadata": {},
   "outputs": [
    {
     "data": {
      "text/html": [
       "<div>\n",
       "<style scoped>\n",
       "    .dataframe tbody tr th:only-of-type {\n",
       "        vertical-align: middle;\n",
       "    }\n",
       "\n",
       "    .dataframe tbody tr th {\n",
       "        vertical-align: top;\n",
       "    }\n",
       "\n",
       "    .dataframe thead th {\n",
       "        text-align: right;\n",
       "    }\n",
       "</style>\n",
       "<table border=\"1\" class=\"dataframe\">\n",
       "  <thead>\n",
       "    <tr style=\"text-align: right;\">\n",
       "      <th></th>\n",
       "      <th>Katman</th>\n",
       "      <th>Sinyal/Skor</th>\n",
       "    </tr>\n",
       "  </thead>\n",
       "  <tbody>\n",
       "    <tr>\n",
       "      <th>0</th>\n",
       "      <td>rsi</td>\n",
       "      <td>-1</td>\n",
       "    </tr>\n",
       "    <tr>\n",
       "      <th>1</th>\n",
       "      <td>macd</td>\n",
       "      <td>1</td>\n",
       "    </tr>\n",
       "    <tr>\n",
       "      <th>2</th>\n",
       "      <td>bollinger</td>\n",
       "      <td>0</td>\n",
       "    </tr>\n",
       "    <tr>\n",
       "      <th>3</th>\n",
       "      <td>ma-cross</td>\n",
       "      <td>1</td>\n",
       "    </tr>\n",
       "    <tr>\n",
       "      <th>4</th>\n",
       "      <td>dmi</td>\n",
       "      <td>1</td>\n",
       "    </tr>\n",
       "    <tr>\n",
       "      <th>5</th>\n",
       "      <td>mfi</td>\n",
       "      <td>0</td>\n",
       "    </tr>\n",
       "    <tr>\n",
       "      <th>6</th>\n",
       "      <td>trendline</td>\n",
       "      <td>1</td>\n",
       "    </tr>\n",
       "  </tbody>\n",
       "</table>\n",
       "</div>"
      ],
      "text/plain": [
       "      Katman  Sinyal/Skor\n",
       "0        rsi           -1\n",
       "1       macd            1\n",
       "2  bollinger            0\n",
       "3   ma-cross            1\n",
       "4        dmi            1\n",
       "5        mfi            0\n",
       "6  trendline            1"
      ]
     },
     "execution_count": 829,
     "metadata": {},
     "output_type": "execute_result"
    }
   ],
   "source": [
    "yf_result[\"signal\"] = yf_result[\"signal\"].map(lambda x: \"1\" if x == \"Buy\" else \"-1\" if x == \"Sell\" else \"0\")\n",
    "yf_result[\"signal\"] = yf_result[\"signal\"].astype(\"int32\")\n",
    "yf_result[[\"Katman\", \"Sinyal/Skor\"]] = yf_result[[\"indicator\", \"signal\"]]\n",
    "yf_result = yf_result.drop(columns=[\"symbol\", \"date\", \"indicator\", \"signal\"])\n",
    "yf_result"
   ]
  },
  {
   "cell_type": "code",
   "execution_count": 830,
   "id": "3818f168",
   "metadata": {},
   "outputs": [],
   "source": [
    "karar_matrisi[\"Sinyal/Skor\"] = karar_matrisi[\"Sinyal/Skor\"].map(lambda x: \"1\" if x == \"BUY\" else \"-1\" if x == \"SELL\" else \"0\")\n",
    "karar_matrisi[\"Sinyal/Skor\"] = karar_matrisi[\"Sinyal/Skor\"].astype(\"int32\")\n",
    "karar_matrisi_latest = karar_matrisi.merge(yf_result, on=\"Katman\", how=\"outer\", suffixes=('_internal', '_yfinance'))"
   ]
  },
  {
   "cell_type": "code",
   "execution_count": 831,
   "id": "898a3261",
   "metadata": {},
   "outputs": [
    {
     "data": {
      "text/html": [
       "<div>\n",
       "<style scoped>\n",
       "    .dataframe tbody tr th:only-of-type {\n",
       "        vertical-align: middle;\n",
       "    }\n",
       "\n",
       "    .dataframe tbody tr th {\n",
       "        vertical-align: top;\n",
       "    }\n",
       "\n",
       "    .dataframe thead th {\n",
       "        text-align: right;\n",
       "    }\n",
       "</style>\n",
       "<table border=\"1\" class=\"dataframe\">\n",
       "  <thead>\n",
       "    <tr style=\"text-align: right;\">\n",
       "      <th></th>\n",
       "      <th>Katman</th>\n",
       "      <th>Sinyal/Skor_internal</th>\n",
       "      <th>Sinyal/Skor_yfinance</th>\n",
       "      <th>Güven Ağırlığı</th>\n",
       "    </tr>\n",
       "  </thead>\n",
       "  <tbody>\n",
       "    <tr>\n",
       "      <th>0</th>\n",
       "      <td>bollinger</td>\n",
       "      <td>0</td>\n",
       "      <td>0</td>\n",
       "      <td>14.29</td>\n",
       "    </tr>\n",
       "    <tr>\n",
       "      <th>1</th>\n",
       "      <td>dmi</td>\n",
       "      <td>-1</td>\n",
       "      <td>1</td>\n",
       "      <td>0.23</td>\n",
       "    </tr>\n",
       "    <tr>\n",
       "      <th>2</th>\n",
       "      <td>ma-cross</td>\n",
       "      <td>-1</td>\n",
       "      <td>1</td>\n",
       "      <td>10.85</td>\n",
       "    </tr>\n",
       "    <tr>\n",
       "      <th>3</th>\n",
       "      <td>macd</td>\n",
       "      <td>-1</td>\n",
       "      <td>1</td>\n",
       "      <td>14.00</td>\n",
       "    </tr>\n",
       "    <tr>\n",
       "      <th>4</th>\n",
       "      <td>mfi</td>\n",
       "      <td>0</td>\n",
       "      <td>0</td>\n",
       "      <td>14.26</td>\n",
       "    </tr>\n",
       "    <tr>\n",
       "      <th>5</th>\n",
       "      <td>rsi</td>\n",
       "      <td>-1</td>\n",
       "      <td>-1</td>\n",
       "      <td>13.95</td>\n",
       "    </tr>\n",
       "    <tr>\n",
       "      <th>6</th>\n",
       "      <td>trendline</td>\n",
       "      <td>0</td>\n",
       "      <td>1</td>\n",
       "      <td>0.62</td>\n",
       "    </tr>\n",
       "  </tbody>\n",
       "</table>\n",
       "</div>"
      ],
      "text/plain": [
       "      Katman  Sinyal/Skor_internal  Sinyal/Skor_yfinance  Güven Ağırlığı\n",
       "0  bollinger                     0                     0           14.29\n",
       "1        dmi                    -1                     1            0.23\n",
       "2   ma-cross                    -1                     1           10.85\n",
       "3       macd                    -1                     1           14.00\n",
       "4        mfi                     0                     0           14.26\n",
       "5        rsi                    -1                    -1           13.95\n",
       "6  trendline                     0                     1            0.62"
      ]
     },
     "execution_count": 831,
     "metadata": {},
     "output_type": "execute_result"
    }
   ],
   "source": [
    "karar_matrisi_latest[[\"Katman\", \"Sinyal/Skor_internal\", \"Sinyal/Skor_yfinance\", \"Güven Ağırlığı\"]]"
   ]
  },
  {
   "cell_type": "code",
   "execution_count": 834,
   "id": "cda80153",
   "metadata": {},
   "outputs": [
    {
     "data": {
      "text/plain": [
       "np.float64(0.11749999999999998)"
      ]
     },
     "execution_count": 834,
     "metadata": {},
     "output_type": "execute_result"
    }
   ],
   "source": [
    "yf_total_net_score = karar_matrisi_latest[\"Sinyal/Skor_yfinance\"].dot(karar_matrisi_latest[\"Güven Ağırlığı\"]) /100\n",
    "yf_total_net_score"
   ]
  },
  {
   "cell_type": "code",
   "execution_count": 838,
   "id": "431527b3",
   "metadata": {},
   "outputs": [
    {
     "name": "stdout",
     "output_type": "stream",
     "text": [
      "HOLD\n"
     ]
    }
   ],
   "source": [
    "print(net_score(yf_total_net_score))"
   ]
  }
 ],
 "metadata": {
  "kernelspec": {
   "display_name": "Python 3",
   "language": "python",
   "name": "python3"
  },
  "language_info": {
   "codemirror_mode": {
    "name": "ipython",
    "version": 3
   },
   "file_extension": ".py",
   "mimetype": "text/x-python",
   "name": "python",
   "nbconvert_exporter": "python",
   "pygments_lexer": "ipython3",
   "version": "3.12.0"
  }
 },
 "nbformat": 4,
 "nbformat_minor": 5
}
